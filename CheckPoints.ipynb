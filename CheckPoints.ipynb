{
 "cells": [
  {
   "cell_type": "code",
   "execution_count": 148,
   "metadata": {
    "scrolled": true
   },
   "outputs": [
    {
     "name": "stdout",
     "output_type": "stream",
     "text": [
      "Index(['permalink', 'name', 'homepage_url', 'category_list', 'status',\n",
      "       'country_code', 'state_code', 'region', 'city', 'founded_at'],\n",
      "      dtype='object')\n",
      "Index(['company_permalink', 'funding_round_permalink', 'funding_round_type',\n",
      "       'funding_round_code', 'funded_at', 'raised_amount_usd'],\n",
      "      dtype='object')\n"
     ]
    },
    {
     "data": {
      "text/html": [
       "<div>\n",
       "<style scoped>\n",
       "    .dataframe tbody tr th:only-of-type {\n",
       "        vertical-align: middle;\n",
       "    }\n",
       "\n",
       "    .dataframe tbody tr th {\n",
       "        vertical-align: top;\n",
       "    }\n",
       "\n",
       "    .dataframe thead th {\n",
       "        text-align: right;\n",
       "    }\n",
       "</style>\n",
       "<table border=\"1\" class=\"dataframe\">\n",
       "  <thead>\n",
       "    <tr style=\"text-align: right;\">\n",
       "      <th></th>\n",
       "      <th>permalink</th>\n",
       "      <th>name</th>\n",
       "      <th>homepage_url</th>\n",
       "      <th>category_list</th>\n",
       "      <th>status</th>\n",
       "      <th>country_code</th>\n",
       "      <th>state_code</th>\n",
       "      <th>region</th>\n",
       "      <th>city</th>\n",
       "      <th>founded_at</th>\n",
       "    </tr>\n",
       "  </thead>\n",
       "  <tbody>\n",
       "    <tr>\n",
       "      <th>0</th>\n",
       "      <td>/Organization/-Fame</td>\n",
       "      <td>#fame</td>\n",
       "      <td>http://livfame.com</td>\n",
       "      <td>Media</td>\n",
       "      <td>operating</td>\n",
       "      <td>IND</td>\n",
       "      <td>16</td>\n",
       "      <td>Mumbai</td>\n",
       "      <td>Mumbai</td>\n",
       "      <td>NaN</td>\n",
       "    </tr>\n",
       "    <tr>\n",
       "      <th>1</th>\n",
       "      <td>/Organization/-Qounter</td>\n",
       "      <td>:Qounter</td>\n",
       "      <td>http://www.qounter.com</td>\n",
       "      <td>Application Platforms|Real Time|Social Network...</td>\n",
       "      <td>operating</td>\n",
       "      <td>USA</td>\n",
       "      <td>DE</td>\n",
       "      <td>DE - Other</td>\n",
       "      <td>Delaware City</td>\n",
       "      <td>04-09-2014</td>\n",
       "    </tr>\n",
       "    <tr>\n",
       "      <th>2</th>\n",
       "      <td>/Organization/-The-One-Of-Them-Inc-</td>\n",
       "      <td>(THE) ONE of THEM,Inc.</td>\n",
       "      <td>http://oneofthem.jp</td>\n",
       "      <td>Apps|Games|Mobile</td>\n",
       "      <td>operating</td>\n",
       "      <td>NaN</td>\n",
       "      <td>NaN</td>\n",
       "      <td>NaN</td>\n",
       "      <td>NaN</td>\n",
       "      <td>NaN</td>\n",
       "    </tr>\n",
       "    <tr>\n",
       "      <th>3</th>\n",
       "      <td>/Organization/0-6-Com</td>\n",
       "      <td>0-6.com</td>\n",
       "      <td>http://www.0-6.com</td>\n",
       "      <td>Curated Web</td>\n",
       "      <td>operating</td>\n",
       "      <td>CHN</td>\n",
       "      <td>22</td>\n",
       "      <td>Beijing</td>\n",
       "      <td>Beijing</td>\n",
       "      <td>01-01-2007</td>\n",
       "    </tr>\n",
       "    <tr>\n",
       "      <th>4</th>\n",
       "      <td>/Organization/004-Technologies</td>\n",
       "      <td>004 Technologies</td>\n",
       "      <td>http://004gmbh.de/en/004-interact</td>\n",
       "      <td>Software</td>\n",
       "      <td>operating</td>\n",
       "      <td>USA</td>\n",
       "      <td>IL</td>\n",
       "      <td>Springfield, Illinois</td>\n",
       "      <td>Champaign</td>\n",
       "      <td>01-01-2010</td>\n",
       "    </tr>\n",
       "  </tbody>\n",
       "</table>\n",
       "</div>"
      ],
      "text/plain": [
       "                             permalink                    name  \\\n",
       "0                  /Organization/-Fame                   #fame   \n",
       "1               /Organization/-Qounter                :Qounter   \n",
       "2  /Organization/-The-One-Of-Them-Inc-  (THE) ONE of THEM,Inc.   \n",
       "3                /Organization/0-6-Com                 0-6.com   \n",
       "4       /Organization/004-Technologies        004 Technologies   \n",
       "\n",
       "                        homepage_url  \\\n",
       "0                 http://livfame.com   \n",
       "1             http://www.qounter.com   \n",
       "2                http://oneofthem.jp   \n",
       "3                 http://www.0-6.com   \n",
       "4  http://004gmbh.de/en/004-interact   \n",
       "\n",
       "                                       category_list     status country_code  \\\n",
       "0                                              Media  operating          IND   \n",
       "1  Application Platforms|Real Time|Social Network...  operating          USA   \n",
       "2                                  Apps|Games|Mobile  operating          NaN   \n",
       "3                                        Curated Web  operating          CHN   \n",
       "4                                           Software  operating          USA   \n",
       "\n",
       "  state_code                 region           city  founded_at  \n",
       "0         16                 Mumbai         Mumbai         NaN  \n",
       "1         DE             DE - Other  Delaware City  04-09-2014  \n",
       "2        NaN                    NaN            NaN         NaN  \n",
       "3         22                Beijing        Beijing  01-01-2007  \n",
       "4         IL  Springfield, Illinois      Champaign  01-01-2010  "
      ]
     },
     "execution_count": 148,
     "metadata": {},
     "output_type": "execute_result"
    }
   ],
   "source": [
    "#Importing Libraries\n",
    "import numpy as np\n",
    "import pandas as pd\n",
    "\n",
    "#Reading the Companies file and printing the column names for reference\n",
    "companies = pd.read_csv(r\"C:\\Users\\PINAKI\\Desktop\\upgrad\\Assignment- 1(Investment)\\companies.txt\",sep='\\t' ,engine='python')\n",
    "print(companies.columns)\n",
    "\n",
    "#Reading the rounds2 file and printing the column names for reference\n",
    "rounds2 = pd.read_csv(r\"C:\\Users\\PINAKI\\Desktop\\upgrad\\Assignment- 1(Investment)\\rounds2.csv\", engine='python')\n",
    "print(rounds2.columns)"
   ]
  },
  {
   "cell_type": "code",
   "execution_count": 149,
   "metadata": {},
   "outputs": [
    {
     "data": {
      "text/plain": [
       "66368"
      ]
     },
     "execution_count": 149,
     "metadata": {},
     "output_type": "execute_result"
    }
   ],
   "source": [
    "#uniformalizing the company names in 'rounds2'\n",
    "rounds2['company_permalink'] = rounds2['company_permalink'].str.lower()\n",
    "\n",
    "#unique companies present in 'rounds2'\n",
    "len(rounds2.company_permalink.unique().tolist())"
   ]
  },
  {
   "cell_type": "code",
   "execution_count": 150,
   "metadata": {
    "scrolled": true
   },
   "outputs": [
    {
     "data": {
      "text/plain": [
       "66368"
      ]
     },
     "execution_count": 150,
     "metadata": {},
     "output_type": "execute_result"
    }
   ],
   "source": [
    "#uniformalizing the company names in 'companies'\n",
    "companies['permalink'] = companies['permalink'].str.lower()\n",
    "\n",
    "#unique companies present in 'companies'\n",
    "len(companies.permalink.unique().tolist())"
   ]
  },
  {
   "cell_type": "code",
   "execution_count": 151,
   "metadata": {
    "scrolled": true
   },
   "outputs": [
    {
     "name": "stdout",
     "output_type": "stream",
     "text": [
      "[]\n",
      "0\n"
     ]
    }
   ],
   "source": [
    "#converting key columns in both the tables, to Sets\n",
    "round_set= set(rounds2.company_permalink)\n",
    "comp_set= set(companies.permalink)\n",
    "\n",
    "#Unique companies in 'rounds2' not in 'companies'\n",
    "diff = list(round_set.difference(comp_set))\n",
    "print(diff)\n",
    "print(len(diff))"
   ]
  },
  {
   "cell_type": "code",
   "execution_count": 152,
   "metadata": {},
   "outputs": [
    {
     "data": {
      "text/plain": [
       "(114949, 15)"
      ]
     },
     "execution_count": 152,
     "metadata": {},
     "output_type": "execute_result"
    }
   ],
   "source": [
    "#Merging the two Dataframes\n",
    "master_frame = pd.merge(companies,rounds2.rename(columns={'company_permalink':'permalink'}), how='outer')\n",
    "\n",
    "#entries in the merged dataframe\n",
    "master_frame.shape"
   ]
  },
  {
   "cell_type": "code",
   "execution_count": 153,
   "metadata": {},
   "outputs": [
    {
     "data": {
      "text/plain": [
       "funding_round_type\n",
       "angel                    9.586945e+05\n",
       "convertible_note         1.453439e+06\n",
       "debt_financing           1.704353e+07\n",
       "equity_crowdfunding      5.383682e+05\n",
       "grant                    4.300576e+06\n",
       "non_equity_assistance    4.112031e+05\n",
       "post_ipo_debt            1.687046e+08\n",
       "post_ipo_equity          8.218249e+07\n",
       "private_equity           7.330859e+07\n",
       "product_crowdfunding     1.363131e+06\n",
       "secondary_market         7.964963e+07\n",
       "seed                     7.198180e+05\n",
       "undisclosed              1.924237e+07\n",
       "venture                  1.174895e+07\n",
       "Name: raised_amount_usd, dtype: float64"
      ]
     },
     "execution_count": 153,
     "metadata": {},
     "output_type": "execute_result"
    }
   ],
   "source": [
    "#dropping the rows with invested amount in blank\n",
    "master_frame= master_frame[~np.isnan(master_frame['raised_amount_usd'])]\n",
    "master_frame.head(10)\n",
    "\n",
    "#finding average investment in various funding types\n",
    "funding_type= master_frame.groupby(\"funding_round_type\")\n",
    "funding_type['raised_amount_usd'].mean()"
   ]
  },
  {
   "cell_type": "code",
   "execution_count": 197,
   "metadata": {
    "scrolled": true
   },
   "outputs": [
    {
     "data": {
      "text/html": [
       "<div>\n",
       "<style scoped>\n",
       "    .dataframe tbody tr th:only-of-type {\n",
       "        vertical-align: middle;\n",
       "    }\n",
       "\n",
       "    .dataframe tbody tr th {\n",
       "        vertical-align: top;\n",
       "    }\n",
       "\n",
       "    .dataframe thead th {\n",
       "        text-align: right;\n",
       "    }\n",
       "</style>\n",
       "<table border=\"1\" class=\"dataframe\">\n",
       "  <thead>\n",
       "    <tr style=\"text-align: right;\">\n",
       "      <th></th>\n",
       "      <th>raised_amount_usd</th>\n",
       "    </tr>\n",
       "    <tr>\n",
       "      <th>country_code</th>\n",
       "      <th></th>\n",
       "    </tr>\n",
       "  </thead>\n",
       "  <tbody>\n",
       "    <tr>\n",
       "      <th>USA</th>\n",
       "      <td>3.922376e+11</td>\n",
       "    </tr>\n",
       "    <tr>\n",
       "      <th>CHN</th>\n",
       "      <td>3.703144e+10</td>\n",
       "    </tr>\n",
       "    <tr>\n",
       "      <th>GBR</th>\n",
       "      <td>1.892439e+10</td>\n",
       "    </tr>\n",
       "    <tr>\n",
       "      <th>IND</th>\n",
       "      <td>1.353798e+10</td>\n",
       "    </tr>\n",
       "    <tr>\n",
       "      <th>CAN</th>\n",
       "      <td>8.715621e+09</td>\n",
       "    </tr>\n",
       "  </tbody>\n",
       "</table>\n",
       "</div>"
      ],
      "text/plain": [
       "              raised_amount_usd\n",
       "country_code                   \n",
       "USA                3.922376e+11\n",
       "CHN                3.703144e+10\n",
       "GBR                1.892439e+10\n",
       "IND                1.353798e+10\n",
       "CAN                8.715621e+09"
      ]
     },
     "execution_count": 197,
     "metadata": {},
     "output_type": "execute_result"
    }
   ],
   "source": [
    "#top9 english speaking countries with max venture investment\n",
    "venture = master_frame.loc[(master_frame.funding_round_type =='venture')]\n",
    "country= venture.pivot_table(values = 'raised_amount_usd', index ='country_code', aggfunc='sum')\n",
    "\n",
    "#filtering top9 entries from the dataframe\n",
    "top9=(country.sort_values(by='raised_amount_usd',ascending=False)).iloc[0:9,:]\n",
    "\n",
    "#printing the new dataframe\n",
    "print(top9)"
   ]
  },
  {
   "cell_type": "code",
   "execution_count": 196,
   "metadata": {},
   "outputs": [
    {
     "data": {
      "text/html": [
       "<div>\n",
       "<style scoped>\n",
       "    .dataframe tbody tr th:only-of-type {\n",
       "        vertical-align: middle;\n",
       "    }\n",
       "\n",
       "    .dataframe tbody tr th {\n",
       "        vertical-align: top;\n",
       "    }\n",
       "\n",
       "    .dataframe thead th {\n",
       "        text-align: right;\n",
       "    }\n",
       "</style>\n",
       "<table border=\"1\" class=\"dataframe\">\n",
       "  <thead>\n",
       "    <tr style=\"text-align: right;\">\n",
       "      <th></th>\n",
       "      <th>category_list</th>\n",
       "      <th>variable</th>\n",
       "      <th>value</th>\n",
       "    </tr>\n",
       "  </thead>\n",
       "  <tbody>\n",
       "    <tr>\n",
       "      <th>7</th>\n",
       "      <td>Adventure Travel</td>\n",
       "      <td>Automotive &amp; Sports</td>\n",
       "      <td>1</td>\n",
       "    </tr>\n",
       "    <tr>\n",
       "      <th>13</th>\n",
       "      <td>Aerospace</td>\n",
       "      <td>Automotive &amp; Sports</td>\n",
       "      <td>1</td>\n",
       "    </tr>\n",
       "    <tr>\n",
       "      <th>44</th>\n",
       "      <td>Auto</td>\n",
       "      <td>Automotive &amp; Sports</td>\n",
       "      <td>1</td>\n",
       "    </tr>\n",
       "    <tr>\n",
       "      <th>45</th>\n",
       "      <td>Automated Kiosk</td>\n",
       "      <td>Automotive &amp; Sports</td>\n",
       "      <td>1</td>\n",
       "    </tr>\n",
       "    <tr>\n",
       "      <th>46</th>\n",
       "      <td>Automotive</td>\n",
       "      <td>Automotive &amp; Sports</td>\n",
       "      <td>1</td>\n",
       "    </tr>\n",
       "  </tbody>\n",
       "</table>\n",
       "</div>"
      ],
      "text/plain": [
       "       category_list             variable  value\n",
       "7   Adventure Travel  Automotive & Sports      1\n",
       "13         Aerospace  Automotive & Sports      1\n",
       "44              Auto  Automotive & Sports      1\n",
       "45   Automated Kiosk  Automotive & Sports      1\n",
       "46        Automotive  Automotive & Sports      1"
      ]
     },
     "execution_count": 196,
     "metadata": {},
     "output_type": "execute_result"
    }
   ],
   "source": [
    "#mapping list\n",
    "mapping = pd.read_csv(r\"C:\\Users\\PINAKI\\Desktop\\upgrad\\Assignment- 1(Investment)\\mapping.csv\", engine='python')\n",
    "mapping= mapping[~pd.isnull(mapping['category_list'])]\n",
    "mapping.head(5)\n",
    "\n",
    "#changing to mergable format\n",
    "new_mapping = mapping.melt(id_vars=['category_list'])\n",
    "new_mapping[new_mapping.value==1]\n",
    "new_mapping= new_mapping.loc[new_mapping.value > 0]\n",
    "\n",
    "#head of the new dataframe\n",
    "new_mapping.head(5)"
   ]
  },
  {
   "cell_type": "code",
   "execution_count": 156,
   "metadata": {
    "scrolled": true
   },
   "outputs": [
    {
     "data": {
      "text/html": [
       "<div>\n",
       "<style scoped>\n",
       "    .dataframe tbody tr th:only-of-type {\n",
       "        vertical-align: middle;\n",
       "    }\n",
       "\n",
       "    .dataframe tbody tr th {\n",
       "        vertical-align: top;\n",
       "    }\n",
       "\n",
       "    .dataframe thead th {\n",
       "        text-align: right;\n",
       "    }\n",
       "</style>\n",
       "<table border=\"1\" class=\"dataframe\">\n",
       "  <thead>\n",
       "    <tr style=\"text-align: right;\">\n",
       "      <th></th>\n",
       "      <th>permalink</th>\n",
       "      <th>name</th>\n",
       "      <th>homepage_url</th>\n",
       "      <th>category_list</th>\n",
       "      <th>status</th>\n",
       "      <th>country_code</th>\n",
       "      <th>state_code</th>\n",
       "      <th>region</th>\n",
       "      <th>city</th>\n",
       "      <th>founded_at</th>\n",
       "      <th>funding_round_permalink</th>\n",
       "      <th>funding_round_type</th>\n",
       "      <th>funding_round_code</th>\n",
       "      <th>funded_at</th>\n",
       "      <th>raised_amount_usd</th>\n",
       "    </tr>\n",
       "  </thead>\n",
       "  <tbody>\n",
       "    <tr>\n",
       "      <th>0</th>\n",
       "      <td>/organization/-fame</td>\n",
       "      <td>#fame</td>\n",
       "      <td>http://livfame.com</td>\n",
       "      <td>Media</td>\n",
       "      <td>operating</td>\n",
       "      <td>IND</td>\n",
       "      <td>16</td>\n",
       "      <td>Mumbai</td>\n",
       "      <td>Mumbai</td>\n",
       "      <td>NaN</td>\n",
       "      <td>/funding-round/9a01d05418af9f794eebff7ace91f638</td>\n",
       "      <td>venture</td>\n",
       "      <td>B</td>\n",
       "      <td>05-01-2015</td>\n",
       "      <td>10000000.0</td>\n",
       "    </tr>\n",
       "    <tr>\n",
       "      <th>2</th>\n",
       "      <td>/organization/-qounter</td>\n",
       "      <td>:Qounter</td>\n",
       "      <td>http://www.qounter.com</td>\n",
       "      <td>Application Platforms</td>\n",
       "      <td>operating</td>\n",
       "      <td>USA</td>\n",
       "      <td>DE</td>\n",
       "      <td>DE - Other</td>\n",
       "      <td>Delaware City</td>\n",
       "      <td>04-09-2014</td>\n",
       "      <td>/funding-round/b44fbb94153f6cdef13083530bb48030</td>\n",
       "      <td>seed</td>\n",
       "      <td>NaN</td>\n",
       "      <td>01-03-2014</td>\n",
       "      <td>700000.0</td>\n",
       "    </tr>\n",
       "    <tr>\n",
       "      <th>3</th>\n",
       "      <td>/organization/-the-one-of-them-inc-</td>\n",
       "      <td>(THE) ONE of THEM,Inc.</td>\n",
       "      <td>http://oneofthem.jp</td>\n",
       "      <td>Apps</td>\n",
       "      <td>operating</td>\n",
       "      <td>NaN</td>\n",
       "      <td>NaN</td>\n",
       "      <td>NaN</td>\n",
       "      <td>NaN</td>\n",
       "      <td>NaN</td>\n",
       "      <td>/funding-round/650b8f704416801069bb178a1418776b</td>\n",
       "      <td>venture</td>\n",
       "      <td>B</td>\n",
       "      <td>30-01-2014</td>\n",
       "      <td>3406878.0</td>\n",
       "    </tr>\n",
       "  </tbody>\n",
       "</table>\n",
       "</div>"
      ],
      "text/plain": [
       "                             permalink                    name  \\\n",
       "0                  /organization/-fame                   #fame   \n",
       "2               /organization/-qounter                :Qounter   \n",
       "3  /organization/-the-one-of-them-inc-  (THE) ONE of THEM,Inc.   \n",
       "\n",
       "             homepage_url          category_list     status country_code  \\\n",
       "0      http://livfame.com                  Media  operating          IND   \n",
       "2  http://www.qounter.com  Application Platforms  operating          USA   \n",
       "3     http://oneofthem.jp                   Apps  operating          NaN   \n",
       "\n",
       "  state_code      region           city  founded_at  \\\n",
       "0         16      Mumbai         Mumbai         NaN   \n",
       "2         DE  DE - Other  Delaware City  04-09-2014   \n",
       "3        NaN         NaN            NaN         NaN   \n",
       "\n",
       "                           funding_round_permalink funding_round_type  \\\n",
       "0  /funding-round/9a01d05418af9f794eebff7ace91f638            venture   \n",
       "2  /funding-round/b44fbb94153f6cdef13083530bb48030               seed   \n",
       "3  /funding-round/650b8f704416801069bb178a1418776b            venture   \n",
       "\n",
       "  funding_round_code   funded_at  raised_amount_usd  \n",
       "0                  B  05-01-2015         10000000.0  \n",
       "2                NaN  01-03-2014           700000.0  \n",
       "3                  B  30-01-2014          3406878.0  "
      ]
     },
     "execution_count": 156,
     "metadata": {},
     "output_type": "execute_result"
    }
   ],
   "source": [
    "#spliting the master frame category list\n",
    "master_frame['category_list']= master_frame.category_list.str.split('|').str[0]\n",
    "\n",
    "#head of the new dataframe\n",
    "master_frame.head(3)"
   ]
  },
  {
   "cell_type": "code",
   "execution_count": 157,
   "metadata": {},
   "outputs": [
    {
     "data": {
      "text/html": [
       "<div>\n",
       "<style scoped>\n",
       "    .dataframe tbody tr th:only-of-type {\n",
       "        vertical-align: middle;\n",
       "    }\n",
       "\n",
       "    .dataframe tbody tr th {\n",
       "        vertical-align: top;\n",
       "    }\n",
       "\n",
       "    .dataframe thead th {\n",
       "        text-align: right;\n",
       "    }\n",
       "</style>\n",
       "<table border=\"1\" class=\"dataframe\">\n",
       "  <thead>\n",
       "    <tr style=\"text-align: right;\">\n",
       "      <th></th>\n",
       "      <th>permalink</th>\n",
       "      <th>name</th>\n",
       "      <th>homepage_url</th>\n",
       "      <th>category_list</th>\n",
       "      <th>status</th>\n",
       "      <th>country_code</th>\n",
       "      <th>state_code</th>\n",
       "      <th>region</th>\n",
       "      <th>city</th>\n",
       "      <th>founded_at</th>\n",
       "      <th>funding_round_permalink</th>\n",
       "      <th>funding_round_type</th>\n",
       "      <th>funding_round_code</th>\n",
       "      <th>funded_at</th>\n",
       "      <th>raised_amount_usd</th>\n",
       "      <th>variable</th>\n",
       "      <th>value</th>\n",
       "    </tr>\n",
       "  </thead>\n",
       "  <tbody>\n",
       "    <tr>\n",
       "      <th>0</th>\n",
       "      <td>/organization/-fame</td>\n",
       "      <td>#fame</td>\n",
       "      <td>http://livfame.com</td>\n",
       "      <td>Media</td>\n",
       "      <td>operating</td>\n",
       "      <td>IND</td>\n",
       "      <td>16</td>\n",
       "      <td>Mumbai</td>\n",
       "      <td>Mumbai</td>\n",
       "      <td>NaN</td>\n",
       "      <td>/funding-round/9a01d05418af9f794eebff7ace91f638</td>\n",
       "      <td>venture</td>\n",
       "      <td>B</td>\n",
       "      <td>05-01-2015</td>\n",
       "      <td>10000000.0</td>\n",
       "      <td>Entertainment</td>\n",
       "      <td>1</td>\n",
       "    </tr>\n",
       "    <tr>\n",
       "      <th>1</th>\n",
       "      <td>/organization/90min</td>\n",
       "      <td>90min</td>\n",
       "      <td>http://www.90min.com</td>\n",
       "      <td>Media</td>\n",
       "      <td>operating</td>\n",
       "      <td>GBR</td>\n",
       "      <td>H9</td>\n",
       "      <td>London</td>\n",
       "      <td>London</td>\n",
       "      <td>01-01-2011</td>\n",
       "      <td>/funding-round/21a2cbf6f2fb2a1c2a61e04bf930dfe6</td>\n",
       "      <td>venture</td>\n",
       "      <td>NaN</td>\n",
       "      <td>06-10-2015</td>\n",
       "      <td>15000000.0</td>\n",
       "      <td>Entertainment</td>\n",
       "      <td>1</td>\n",
       "    </tr>\n",
       "    <tr>\n",
       "      <th>2</th>\n",
       "      <td>/organization/90min</td>\n",
       "      <td>90min</td>\n",
       "      <td>http://www.90min.com</td>\n",
       "      <td>Media</td>\n",
       "      <td>operating</td>\n",
       "      <td>GBR</td>\n",
       "      <td>H9</td>\n",
       "      <td>London</td>\n",
       "      <td>London</td>\n",
       "      <td>01-01-2011</td>\n",
       "      <td>/funding-round/bd626ed022f5c66574b1afe234f3c90d</td>\n",
       "      <td>venture</td>\n",
       "      <td>NaN</td>\n",
       "      <td>07-05-2013</td>\n",
       "      <td>5800000.0</td>\n",
       "      <td>Entertainment</td>\n",
       "      <td>1</td>\n",
       "    </tr>\n",
       "    <tr>\n",
       "      <th>3</th>\n",
       "      <td>/organization/90min</td>\n",
       "      <td>90min</td>\n",
       "      <td>http://www.90min.com</td>\n",
       "      <td>Media</td>\n",
       "      <td>operating</td>\n",
       "      <td>GBR</td>\n",
       "      <td>H9</td>\n",
       "      <td>London</td>\n",
       "      <td>London</td>\n",
       "      <td>01-01-2011</td>\n",
       "      <td>/funding-round/fd4b15e8c97ee2ffc0acccdbe1a98810</td>\n",
       "      <td>venture</td>\n",
       "      <td>NaN</td>\n",
       "      <td>26-03-2014</td>\n",
       "      <td>18000000.0</td>\n",
       "      <td>Entertainment</td>\n",
       "      <td>1</td>\n",
       "    </tr>\n",
       "    <tr>\n",
       "      <th>4</th>\n",
       "      <td>/organization/a-dance-for-me</td>\n",
       "      <td>A Dance for Me</td>\n",
       "      <td>http://www.adanceforme.com/</td>\n",
       "      <td>Media</td>\n",
       "      <td>operating</td>\n",
       "      <td>USA</td>\n",
       "      <td>MT</td>\n",
       "      <td>Missoula</td>\n",
       "      <td>Missoula</td>\n",
       "      <td>31-07-2011</td>\n",
       "      <td>/funding-round/9ab9dbd17bf010c79d8415b2c22be6fa</td>\n",
       "      <td>equity_crowdfunding</td>\n",
       "      <td>NaN</td>\n",
       "      <td>26-03-2014</td>\n",
       "      <td>1090000.0</td>\n",
       "      <td>Entertainment</td>\n",
       "      <td>1</td>\n",
       "    </tr>\n",
       "  </tbody>\n",
       "</table>\n",
       "</div>"
      ],
      "text/plain": [
       "                      permalink            name                 homepage_url  \\\n",
       "0           /organization/-fame           #fame           http://livfame.com   \n",
       "1           /organization/90min           90min         http://www.90min.com   \n",
       "2           /organization/90min           90min         http://www.90min.com   \n",
       "3           /organization/90min           90min         http://www.90min.com   \n",
       "4  /organization/a-dance-for-me  A Dance for Me  http://www.adanceforme.com/   \n",
       "\n",
       "  category_list     status country_code state_code    region      city  \\\n",
       "0         Media  operating          IND         16    Mumbai    Mumbai   \n",
       "1         Media  operating          GBR         H9    London    London   \n",
       "2         Media  operating          GBR         H9    London    London   \n",
       "3         Media  operating          GBR         H9    London    London   \n",
       "4         Media  operating          USA         MT  Missoula  Missoula   \n",
       "\n",
       "   founded_at                          funding_round_permalink  \\\n",
       "0         NaN  /funding-round/9a01d05418af9f794eebff7ace91f638   \n",
       "1  01-01-2011  /funding-round/21a2cbf6f2fb2a1c2a61e04bf930dfe6   \n",
       "2  01-01-2011  /funding-round/bd626ed022f5c66574b1afe234f3c90d   \n",
       "3  01-01-2011  /funding-round/fd4b15e8c97ee2ffc0acccdbe1a98810   \n",
       "4  31-07-2011  /funding-round/9ab9dbd17bf010c79d8415b2c22be6fa   \n",
       "\n",
       "    funding_round_type funding_round_code   funded_at  raised_amount_usd  \\\n",
       "0              venture                  B  05-01-2015         10000000.0   \n",
       "1              venture                NaN  06-10-2015         15000000.0   \n",
       "2              venture                NaN  07-05-2013          5800000.0   \n",
       "3              venture                NaN  26-03-2014         18000000.0   \n",
       "4  equity_crowdfunding                NaN  26-03-2014          1090000.0   \n",
       "\n",
       "        variable  value  \n",
       "0  Entertainment      1  \n",
       "1  Entertainment      1  \n",
       "2  Entertainment      1  \n",
       "3  Entertainment      1  \n",
       "4  Entertainment      1  "
      ]
     },
     "execution_count": 157,
     "metadata": {},
     "output_type": "execute_result"
    }
   ],
   "source": [
    "# merging mapping and master frame\n",
    "master_frame = pd.merge(master_frame,new_mapping, how='inner', on ='category_list')\n",
    "\n",
    "#head of the new dataframe\n",
    "master_frame.head(5)\n",
    "\n",
    "#column names -> primary_sector = category_list and main_sector = variable"
   ]
  },
  {
   "cell_type": "code",
   "execution_count": 188,
   "metadata": {},
   "outputs": [
    {
     "name": "stdout",
     "output_type": "stream",
     "text": [
      "(11149, 17)\n",
      "99661524549.0\n",
      "                                         count           sum\n",
      "variable                                                    \n",
      "Automotive & Sports                        167  1.454104e+09\n",
      "Cleantech / Semiconductors                2297  2.118100e+10\n",
      "Entertainment                              580  5.000213e+09\n",
      "Health                                     908  8.200859e+09\n",
      "Manufacturing                              799  7.258553e+09\n",
      "News, Search and Messaging                1563  1.379682e+10\n",
      "Others                                    2923  2.608928e+10\n",
      "Social, Finance, Analytics, Advertising   1912  1.668070e+10\n",
      "1stdibs\n",
      "480 Biomedical\n"
     ]
    }
   ],
   "source": [
    "#creating data frame D1 - Country = USA , FT = venture\n",
    "D1 = master_frame.loc[(master_frame.funding_round_type == 'venture') & (master_frame.country_code == 'USA')]\n",
    "D1 =D1.loc[(D1.raised_amount_usd <= 15000000) & (D1.raised_amount_usd >= 5000000)]\n",
    "\n",
    "# analyzing D1\n",
    "print(D1.shape)\n",
    "print(D1.raised_amount_usd.sum())\n",
    "\n",
    "# pivot table on D1\n",
    "print(D1.pivot_table(values = 'raised_amount_usd', index = 'variable', aggfunc = ('count', 'sum')))\n",
    "\n",
    "# companies having maximum investment in the 1st top sector\n",
    "D1_1 = D1.loc[(D1.variable=='Others')]\n",
    "print(D1_1.loc[D1_1.raised_amount_usd.idxmax(),'name'])\n",
    "\n",
    "# companies having maximum investment in the 2nd top sector\n",
    "D1_2 = D1.loc[(D1.variable=='Cleantech / Semiconductors')]\n",
    "print(D1_2.loc[D1_2.raised_amount_usd.idxmax(),'name'])"
   ]
  },
  {
   "cell_type": "code",
   "execution_count": 190,
   "metadata": {},
   "outputs": [
    {
     "name": "stdout",
     "output_type": "stream",
     "text": [
      "(577, 17)\n",
      "5028704358.0\n",
      "                                         count           sum\n",
      "variable                                                    \n",
      "Automotive & Sports                         16  1.670516e+08\n",
      "Cleantech / Semiconductors                 127  1.136905e+09\n",
      "Entertainment                               54  4.615111e+08\n",
      "Health                                      24  2.145375e+08\n",
      "Manufacturing                               42  3.619403e+08\n",
      "News, Search and Messaging                  73  6.157462e+08\n",
      "Others                                     143  1.249124e+09\n",
      "Social, Finance, Analytics, Advertising     98  8.218884e+08\n",
      "Notonthehighstreet\n",
      "Anadigm\n"
     ]
    }
   ],
   "source": [
    "#creating data frame D2 - Country = GBR , FT = venture\n",
    "D2 = master_frame.loc[(master_frame.funding_round_type == 'venture') & (master_frame.country_code == 'GBR')]\n",
    "D2 =D2.loc[(D2.raised_amount_usd <= 15000000) & (D2.raised_amount_usd >= 5000000)]\n",
    "\n",
    "# analyzing D2\n",
    "print(D2.shape)\n",
    "print(D2.raised_amount_usd.sum())\n",
    "\n",
    "# pivot table on D2\n",
    "print(D2.pivot_table(values = 'raised_amount_usd', index = 'variable', aggfunc = ('count', 'sum')))\n",
    "\n",
    "# companies having maximum investment in the 1st top sector\n",
    "D2_1 = D2.loc[(D2.variable=='Others')]\n",
    "print(D2_1.loc[D2_1.raised_amount_usd.idxmax(),'name'])\n",
    "\n",
    "# companies having maximum investment in the 2nd top sector\n",
    "D2_2 = D2.loc[(D2.variable=='Cleantech / Semiconductors')]\n",
    "print(D2_2.loc[D2_2.raised_amount_usd.idxmax(),'name'])"
   ]
  },
  {
   "cell_type": "code",
   "execution_count": 195,
   "metadata": {},
   "outputs": [
    {
     "name": "stdout",
     "output_type": "stream",
     "text": [
      "(299, 17)\n",
      "2683537552.0\n",
      "                                         count           sum\n",
      "variable                                                    \n",
      "Automotive & Sports                         13  1.369000e+08\n",
      "Cleantech / Semiconductors                  20  1.653800e+08\n",
      "Entertainment                               33  2.808300e+08\n",
      "Health                                      19  1.677400e+08\n",
      "Manufacturing                               21  2.009000e+08\n",
      "News, Search and Messaging                  52  4.338345e+08\n",
      "Others                                     109  1.007410e+09\n",
      "Social, Finance, Analytics, Advertising     32  2.905435e+08\n",
      "CaratLane\n",
      "Mobile2Win India\n"
     ]
    }
   ],
   "source": [
    "#creating data frame D3 - Country = IND , FT = venture\n",
    "D3 = master_frame.loc[(master_frame.funding_round_type == 'venture') & (master_frame.country_code == 'IND')]\n",
    "D3 =D3.loc[(D3.raised_amount_usd <= 15000000) & (D3.raised_amount_usd >= 5000000)]\n",
    "\n",
    "# analyzing D3\n",
    "print(D3.shape)\n",
    "print(D3.raised_amount_usd.sum())\n",
    "\n",
    "# pivot table on D3\n",
    "print(D3.pivot_table(values = 'raised_amount_usd', index = 'variable', aggfunc = ('count', 'sum')))\n",
    "\n",
    "# companies having maximum investment in the 1st top sector\n",
    "D3_1 = D3.loc[(D3.variable=='Others')]\n",
    "print(D3_1.loc[D3_1.raised_amount_usd.idxmax(),'name'])\n",
    "\n",
    "# companies having maximum investment in the 2nd top sector\n",
    "D3_2 = D3.loc[(D3.variable=='News, Search and Messaging')]\n",
    "print(D3_2.loc[D3_2.raised_amount_usd.idxmax(),'name'])"
   ]
  },
  {
   "cell_type": "code",
   "execution_count": 222,
   "metadata": {},
   "outputs": [
    {
     "name": "stdout",
     "output_type": "stream",
     "text": [
      "920242235759.0\n",
      "0.5926552511917416\n",
      "0.016462600134305817\n",
      "0.14321560909046882\n"
     ]
    },
    {
     "data": {
      "image/png": "[encoded data removed]",
      "text/plain": [
       "<Figure size 432x288 with 1 Axes>"
      ]
     },
     "metadata": {
      "needs_background": "light"
     },
     "output_type": "display_data"
    }
   ],
   "source": [
    "# Plot 1 - fraction of total investments vs avg investment in funds type\n",
    "total_inv = master_frame['raised_amount_usd'].sum()\n",
    "print(total_inv)\n",
    "\n",
    "ven= master_frame.loc[(master_frame.funding_round_type == 'venture')]\n",
    "frac_ven = ven['raised_amount_usd'].sum()/total_inv\n",
    "print(frac_ven)\n",
    "\n",
    "seed= master_frame.loc[(master_frame.funding_round_type == 'seed')]\n",
    "frac_seed = seed['raised_amount_usd'].sum()/total_inv\n",
    "print(frac_seed)\n",
    "\n",
    "priv= master_frame.loc[(master_frame.funding_round_type == 'private_equity')]\n",
    "\n",
    "frac_priv = priv['raised_amount_usd'].sum()/total_inv\n",
    "print(frac_priv)\n",
    "\n",
    "#graph\n",
    "import matplotlib.pyplot as plt \n",
    "frac = [frac_ven, frac_seed, frac_priv]\n",
    "avg = [ven['raised_amount_usd'].sum(), seed['raised_amount_usd'].mean(), priv['raised_amount_usd'].mean()]\n",
    "\n",
    "tick_label =['venture', 'seed', 'priv equity']\n",
    "\n",
    "plt.ylabel('Fraction Investment')\n",
    "plt.xlabel('x - axis')\n",
    "\n",
    "plt.bar(tick_label, frac, width = 0.2, color= ['red', 'green', 'blue', 'orange'])\n",
    "plt.show() "
   ]
  },
  {
   "cell_type": "code",
   "execution_count": 235,
   "metadata": {
    "scrolled": true
   },
   "outputs": [
    {
     "data": {
      "image/png": "[encoded data removed]",
      "text/plain": [
       "<Figure size 432x288 with 1 Axes>"
      ]
     },
     "metadata": {
      "needs_background": "light"
     },
     "output_type": "display_data"
    }
   ],
   "source": [
    "# Plot 2 - Total investment in venture against top 9 countries\n",
    "xcont = []\n",
    "ysum = []\n",
    "xcont =top9.index.values.tolist()\n",
    "ysum = top9.raised_amount_usd.tolist()\n",
    "\n",
    "#graph\n",
    "plt.ylabel('Total Investment')\n",
    "plt.xlabel('Country')\n",
    "\n",
    "plt.bar(xcont, ysum, width = 0.4)\n",
    "plt.show() "
   ]
  },
  {
   "cell_type": "code",
   "execution_count": null,
   "metadata": {},
   "outputs": [],
   "source": [
    "#plot 3 \n",
    "\n",
    "xcoutry= [\"USA', 'GBR', 'IND']\n",
    "top_sec = ['Others', 'Cleantech / Semiconductors','Social, Finance, Analytics, Advertising','Others', 'Cleantech / Semiconductors' ]\n"
   ]
  }
 ],
 "metadata": {
  "kernelspec": {
   "display_name": "Python 3",
   "language": "python",
   "name": "python3"
  },
  "language_info": {
   "codemirror_mode": {
    "name": "ipython",
    "version": 3
   },
   "file_extension": ".py",
   "mimetype": "text/x-python",
   "name": "python",
   "nbconvert_exporter": "python",
   "pygments_lexer": "ipython3",
   "version": "3.6.8"
  }
 },
 "nbformat": 4,
 "nbformat_minor": 2
}
